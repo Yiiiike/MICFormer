{
 "cells": [
  {
   "cell_type": "code",
   "execution_count": 1,
   "metadata": {},
   "outputs": [],
   "source": [
    "import torch \n",
    "from dataset.MMWHS import get_datasets,get_datasets_noPad,get_datasets_Aug\n",
    "from nnunet_mednext import MedNeXt , create_mednext_v1\n",
    "from utils import reload_ckpt_bis , post_trans , decollate_batch , inference\n",
    "import nibabel as nib\n",
    "import numpy as np\n",
    "from monai import transforms\n",
    "import monai \n"
   ]
  },
  {
   "cell_type": "code",
   "execution_count": 2,
   "metadata": {},
   "outputs": [],
   "source": [
    "val_transform = transforms.Compose(\n",
    "        [\n",
    "            transforms.NormalizeIntensityd(keys=\"image\", nonzero=True, channel_wise=True),\n",
    "        ]\n",
    "    )\n",
    "\n",
    "full_train_dataset, l_val_dataset, bench_dataset = get_datasets_Aug(1234, fold_number=0,val_transforms=val_transform)\n",
    "train_loader = torch.utils.data.DataLoader(full_train_dataset, batch_size=1, shuffle=True,\n",
    "                                            num_workers=0, pin_memory=False, drop_last=False)\n",
    "val_loader = torch.utils.data.DataLoader(l_val_dataset, batch_size=1, shuffle=False,\n",
    "                                            pin_memory=True, num_workers=0)\n",
    "bench_loader = torch.utils.data.DataLoader(bench_dataset, batch_size=1, num_workers=0)\n"
   ]
  },
  {
   "cell_type": "code",
   "execution_count": 3,
   "metadata": {},
   "outputs": [
    {
     "name": "stdout",
     "output_type": "stream",
     "text": [
      "=> loading checkpoint /home/fanxx/fxx/Multi-modal-Segmentation/MMWHS_pre/Multi_modal/MedNeXt_S/runs/logs_base/model_noPad_2/model_lower_loss.pth.tar\n"
     ]
    },
    {
     "data": {
      "text/plain": [
       "MedNeXt(\n",
       "  (stem): Conv3d(2, 32, kernel_size=(1, 1, 1), stride=(1, 1, 1))\n",
       "  (enc_block_0): Sequential(\n",
       "    (0): MedNeXtBlock(\n",
       "      (conv1): Conv3d(32, 32, kernel_size=(3, 3, 3), stride=(1, 1, 1), padding=(1, 1, 1), groups=32)\n",
       "      (norm): GroupNorm(32, 32, eps=1e-05, affine=True)\n",
       "      (conv2): Conv3d(32, 64, kernel_size=(1, 1, 1), stride=(1, 1, 1))\n",
       "      (act): GELU(approximate='none')\n",
       "      (conv3): Conv3d(64, 32, kernel_size=(1, 1, 1), stride=(1, 1, 1))\n",
       "    )\n",
       "    (1): MedNeXtBlock(\n",
       "      (conv1): Conv3d(32, 32, kernel_size=(3, 3, 3), stride=(1, 1, 1), padding=(1, 1, 1), groups=32)\n",
       "      (norm): GroupNorm(32, 32, eps=1e-05, affine=True)\n",
       "      (conv2): Conv3d(32, 64, kernel_size=(1, 1, 1), stride=(1, 1, 1))\n",
       "      (act): GELU(approximate='none')\n",
       "      (conv3): Conv3d(64, 32, kernel_size=(1, 1, 1), stride=(1, 1, 1))\n",
       "    )\n",
       "  )\n",
       "  (down_0): MedNeXtDownBlock(\n",
       "    (conv1): Conv3d(32, 32, kernel_size=(3, 3, 3), stride=(2, 2, 2), padding=(1, 1, 1), groups=32)\n",
       "    (norm): GroupNorm(32, 32, eps=1e-05, affine=True)\n",
       "    (conv2): Conv3d(32, 64, kernel_size=(1, 1, 1), stride=(1, 1, 1))\n",
       "    (act): GELU(approximate='none')\n",
       "    (conv3): Conv3d(64, 64, kernel_size=(1, 1, 1), stride=(1, 1, 1))\n",
       "    (res_conv): Conv3d(32, 64, kernel_size=(1, 1, 1), stride=(2, 2, 2))\n",
       "  )\n",
       "  (enc_block_1): Sequential(\n",
       "    (0): MedNeXtBlock(\n",
       "      (conv1): Conv3d(64, 64, kernel_size=(3, 3, 3), stride=(1, 1, 1), padding=(1, 1, 1), groups=64)\n",
       "      (norm): GroupNorm(64, 64, eps=1e-05, affine=True)\n",
       "      (conv2): Conv3d(64, 128, kernel_size=(1, 1, 1), stride=(1, 1, 1))\n",
       "      (act): GELU(approximate='none')\n",
       "      (conv3): Conv3d(128, 64, kernel_size=(1, 1, 1), stride=(1, 1, 1))\n",
       "    )\n",
       "    (1): MedNeXtBlock(\n",
       "      (conv1): Conv3d(64, 64, kernel_size=(3, 3, 3), stride=(1, 1, 1), padding=(1, 1, 1), groups=64)\n",
       "      (norm): GroupNorm(64, 64, eps=1e-05, affine=True)\n",
       "      (conv2): Conv3d(64, 128, kernel_size=(1, 1, 1), stride=(1, 1, 1))\n",
       "      (act): GELU(approximate='none')\n",
       "      (conv3): Conv3d(128, 64, kernel_size=(1, 1, 1), stride=(1, 1, 1))\n",
       "    )\n",
       "  )\n",
       "  (down_1): MedNeXtDownBlock(\n",
       "    (conv1): Conv3d(64, 64, kernel_size=(3, 3, 3), stride=(2, 2, 2), padding=(1, 1, 1), groups=64)\n",
       "    (norm): GroupNorm(64, 64, eps=1e-05, affine=True)\n",
       "    (conv2): Conv3d(64, 128, kernel_size=(1, 1, 1), stride=(1, 1, 1))\n",
       "    (act): GELU(approximate='none')\n",
       "    (conv3): Conv3d(128, 128, kernel_size=(1, 1, 1), stride=(1, 1, 1))\n",
       "    (res_conv): Conv3d(64, 128, kernel_size=(1, 1, 1), stride=(2, 2, 2))\n",
       "  )\n",
       "  (enc_block_2): Sequential(\n",
       "    (0): MedNeXtBlock(\n",
       "      (conv1): Conv3d(128, 128, kernel_size=(3, 3, 3), stride=(1, 1, 1), padding=(1, 1, 1), groups=128)\n",
       "      (norm): GroupNorm(128, 128, eps=1e-05, affine=True)\n",
       "      (conv2): Conv3d(128, 256, kernel_size=(1, 1, 1), stride=(1, 1, 1))\n",
       "      (act): GELU(approximate='none')\n",
       "      (conv3): Conv3d(256, 128, kernel_size=(1, 1, 1), stride=(1, 1, 1))\n",
       "    )\n",
       "    (1): MedNeXtBlock(\n",
       "      (conv1): Conv3d(128, 128, kernel_size=(3, 3, 3), stride=(1, 1, 1), padding=(1, 1, 1), groups=128)\n",
       "      (norm): GroupNorm(128, 128, eps=1e-05, affine=True)\n",
       "      (conv2): Conv3d(128, 256, kernel_size=(1, 1, 1), stride=(1, 1, 1))\n",
       "      (act): GELU(approximate='none')\n",
       "      (conv3): Conv3d(256, 128, kernel_size=(1, 1, 1), stride=(1, 1, 1))\n",
       "    )\n",
       "  )\n",
       "  (down_2): MedNeXtDownBlock(\n",
       "    (conv1): Conv3d(128, 128, kernel_size=(3, 3, 3), stride=(2, 2, 2), padding=(1, 1, 1), groups=128)\n",
       "    (norm): GroupNorm(128, 128, eps=1e-05, affine=True)\n",
       "    (conv2): Conv3d(128, 256, kernel_size=(1, 1, 1), stride=(1, 1, 1))\n",
       "    (act): GELU(approximate='none')\n",
       "    (conv3): Conv3d(256, 256, kernel_size=(1, 1, 1), stride=(1, 1, 1))\n",
       "    (res_conv): Conv3d(128, 256, kernel_size=(1, 1, 1), stride=(2, 2, 2))\n",
       "  )\n",
       "  (enc_block_3): Sequential(\n",
       "    (0): MedNeXtBlock(\n",
       "      (conv1): Conv3d(256, 256, kernel_size=(3, 3, 3), stride=(1, 1, 1), padding=(1, 1, 1), groups=256)\n",
       "      (norm): GroupNorm(256, 256, eps=1e-05, affine=True)\n",
       "      (conv2): Conv3d(256, 512, kernel_size=(1, 1, 1), stride=(1, 1, 1))\n",
       "      (act): GELU(approximate='none')\n",
       "      (conv3): Conv3d(512, 256, kernel_size=(1, 1, 1), stride=(1, 1, 1))\n",
       "    )\n",
       "    (1): MedNeXtBlock(\n",
       "      (conv1): Conv3d(256, 256, kernel_size=(3, 3, 3), stride=(1, 1, 1), padding=(1, 1, 1), groups=256)\n",
       "      (norm): GroupNorm(256, 256, eps=1e-05, affine=True)\n",
       "      (conv2): Conv3d(256, 512, kernel_size=(1, 1, 1), stride=(1, 1, 1))\n",
       "      (act): GELU(approximate='none')\n",
       "      (conv3): Conv3d(512, 256, kernel_size=(1, 1, 1), stride=(1, 1, 1))\n",
       "    )\n",
       "  )\n",
       "  (down_3): MedNeXtDownBlock(\n",
       "    (conv1): Conv3d(256, 256, kernel_size=(3, 3, 3), stride=(2, 2, 2), padding=(1, 1, 1), groups=256)\n",
       "    (norm): GroupNorm(256, 256, eps=1e-05, affine=True)\n",
       "    (conv2): Conv3d(256, 512, kernel_size=(1, 1, 1), stride=(1, 1, 1))\n",
       "    (act): GELU(approximate='none')\n",
       "    (conv3): Conv3d(512, 512, kernel_size=(1, 1, 1), stride=(1, 1, 1))\n",
       "    (res_conv): Conv3d(256, 512, kernel_size=(1, 1, 1), stride=(2, 2, 2))\n",
       "  )\n",
       "  (bottleneck): Sequential(\n",
       "    (0): MedNeXtBlock(\n",
       "      (conv1): Conv3d(512, 512, kernel_size=(3, 3, 3), stride=(1, 1, 1), padding=(1, 1, 1), groups=512)\n",
       "      (norm): GroupNorm(512, 512, eps=1e-05, affine=True)\n",
       "      (conv2): Conv3d(512, 1024, kernel_size=(1, 1, 1), stride=(1, 1, 1))\n",
       "      (act): GELU(approximate='none')\n",
       "      (conv3): Conv3d(1024, 512, kernel_size=(1, 1, 1), stride=(1, 1, 1))\n",
       "    )\n",
       "    (1): MedNeXtBlock(\n",
       "      (conv1): Conv3d(512, 512, kernel_size=(3, 3, 3), stride=(1, 1, 1), padding=(1, 1, 1), groups=512)\n",
       "      (norm): GroupNorm(512, 512, eps=1e-05, affine=True)\n",
       "      (conv2): Conv3d(512, 1024, kernel_size=(1, 1, 1), stride=(1, 1, 1))\n",
       "      (act): GELU(approximate='none')\n",
       "      (conv3): Conv3d(1024, 512, kernel_size=(1, 1, 1), stride=(1, 1, 1))\n",
       "    )\n",
       "  )\n",
       "  (up_3): MedNeXtUpBlock(\n",
       "    (conv1): ConvTranspose3d(512, 512, kernel_size=(3, 3, 3), stride=(2, 2, 2), padding=(1, 1, 1), groups=512)\n",
       "    (norm): GroupNorm(512, 512, eps=1e-05, affine=True)\n",
       "    (conv2): Conv3d(512, 1024, kernel_size=(1, 1, 1), stride=(1, 1, 1))\n",
       "    (act): GELU(approximate='none')\n",
       "    (conv3): Conv3d(1024, 256, kernel_size=(1, 1, 1), stride=(1, 1, 1))\n",
       "    (res_conv): ConvTranspose3d(512, 256, kernel_size=(1, 1, 1), stride=(2, 2, 2))\n",
       "  )\n",
       "  (dec_block_3): Sequential(\n",
       "    (0): MedNeXtBlock(\n",
       "      (conv1): Conv3d(256, 256, kernel_size=(3, 3, 3), stride=(1, 1, 1), padding=(1, 1, 1), groups=256)\n",
       "      (norm): GroupNorm(256, 256, eps=1e-05, affine=True)\n",
       "      (conv2): Conv3d(256, 512, kernel_size=(1, 1, 1), stride=(1, 1, 1))\n",
       "      (act): GELU(approximate='none')\n",
       "      (conv3): Conv3d(512, 256, kernel_size=(1, 1, 1), stride=(1, 1, 1))\n",
       "    )\n",
       "    (1): MedNeXtBlock(\n",
       "      (conv1): Conv3d(256, 256, kernel_size=(3, 3, 3), stride=(1, 1, 1), padding=(1, 1, 1), groups=256)\n",
       "      (norm): GroupNorm(256, 256, eps=1e-05, affine=True)\n",
       "      (conv2): Conv3d(256, 512, kernel_size=(1, 1, 1), stride=(1, 1, 1))\n",
       "      (act): GELU(approximate='none')\n",
       "      (conv3): Conv3d(512, 256, kernel_size=(1, 1, 1), stride=(1, 1, 1))\n",
       "    )\n",
       "  )\n",
       "  (up_2): MedNeXtUpBlock(\n",
       "    (conv1): ConvTranspose3d(256, 256, kernel_size=(3, 3, 3), stride=(2, 2, 2), padding=(1, 1, 1), groups=256)\n",
       "    (norm): GroupNorm(256, 256, eps=1e-05, affine=True)\n",
       "    (conv2): Conv3d(256, 512, kernel_size=(1, 1, 1), stride=(1, 1, 1))\n",
       "    (act): GELU(approximate='none')\n",
       "    (conv3): Conv3d(512, 128, kernel_size=(1, 1, 1), stride=(1, 1, 1))\n",
       "    (res_conv): ConvTranspose3d(256, 128, kernel_size=(1, 1, 1), stride=(2, 2, 2))\n",
       "  )\n",
       "  (dec_block_2): Sequential(\n",
       "    (0): MedNeXtBlock(\n",
       "      (conv1): Conv3d(128, 128, kernel_size=(3, 3, 3), stride=(1, 1, 1), padding=(1, 1, 1), groups=128)\n",
       "      (norm): GroupNorm(128, 128, eps=1e-05, affine=True)\n",
       "      (conv2): Conv3d(128, 256, kernel_size=(1, 1, 1), stride=(1, 1, 1))\n",
       "      (act): GELU(approximate='none')\n",
       "      (conv3): Conv3d(256, 128, kernel_size=(1, 1, 1), stride=(1, 1, 1))\n",
       "    )\n",
       "    (1): MedNeXtBlock(\n",
       "      (conv1): Conv3d(128, 128, kernel_size=(3, 3, 3), stride=(1, 1, 1), padding=(1, 1, 1), groups=128)\n",
       "      (norm): GroupNorm(128, 128, eps=1e-05, affine=True)\n",
       "      (conv2): Conv3d(128, 256, kernel_size=(1, 1, 1), stride=(1, 1, 1))\n",
       "      (act): GELU(approximate='none')\n",
       "      (conv3): Conv3d(256, 128, kernel_size=(1, 1, 1), stride=(1, 1, 1))\n",
       "    )\n",
       "  )\n",
       "  (up_1): MedNeXtUpBlock(\n",
       "    (conv1): ConvTranspose3d(128, 128, kernel_size=(3, 3, 3), stride=(2, 2, 2), padding=(1, 1, 1), groups=128)\n",
       "    (norm): GroupNorm(128, 128, eps=1e-05, affine=True)\n",
       "    (conv2): Conv3d(128, 256, kernel_size=(1, 1, 1), stride=(1, 1, 1))\n",
       "    (act): GELU(approximate='none')\n",
       "    (conv3): Conv3d(256, 64, kernel_size=(1, 1, 1), stride=(1, 1, 1))\n",
       "    (res_conv): ConvTranspose3d(128, 64, kernel_size=(1, 1, 1), stride=(2, 2, 2))\n",
       "  )\n",
       "  (dec_block_1): Sequential(\n",
       "    (0): MedNeXtBlock(\n",
       "      (conv1): Conv3d(64, 64, kernel_size=(3, 3, 3), stride=(1, 1, 1), padding=(1, 1, 1), groups=64)\n",
       "      (norm): GroupNorm(64, 64, eps=1e-05, affine=True)\n",
       "      (conv2): Conv3d(64, 128, kernel_size=(1, 1, 1), stride=(1, 1, 1))\n",
       "      (act): GELU(approximate='none')\n",
       "      (conv3): Conv3d(128, 64, kernel_size=(1, 1, 1), stride=(1, 1, 1))\n",
       "    )\n",
       "    (1): MedNeXtBlock(\n",
       "      (conv1): Conv3d(64, 64, kernel_size=(3, 3, 3), stride=(1, 1, 1), padding=(1, 1, 1), groups=64)\n",
       "      (norm): GroupNorm(64, 64, eps=1e-05, affine=True)\n",
       "      (conv2): Conv3d(64, 128, kernel_size=(1, 1, 1), stride=(1, 1, 1))\n",
       "      (act): GELU(approximate='none')\n",
       "      (conv3): Conv3d(128, 64, kernel_size=(1, 1, 1), stride=(1, 1, 1))\n",
       "    )\n",
       "  )\n",
       "  (up_0): MedNeXtUpBlock(\n",
       "    (conv1): ConvTranspose3d(64, 64, kernel_size=(3, 3, 3), stride=(2, 2, 2), padding=(1, 1, 1), groups=64)\n",
       "    (norm): GroupNorm(64, 64, eps=1e-05, affine=True)\n",
       "    (conv2): Conv3d(64, 128, kernel_size=(1, 1, 1), stride=(1, 1, 1))\n",
       "    (act): GELU(approximate='none')\n",
       "    (conv3): Conv3d(128, 32, kernel_size=(1, 1, 1), stride=(1, 1, 1))\n",
       "    (res_conv): ConvTranspose3d(64, 32, kernel_size=(1, 1, 1), stride=(2, 2, 2))\n",
       "  )\n",
       "  (dec_block_0): Sequential(\n",
       "    (0): MedNeXtBlock(\n",
       "      (conv1): Conv3d(32, 32, kernel_size=(3, 3, 3), stride=(1, 1, 1), padding=(1, 1, 1), groups=32)\n",
       "      (norm): GroupNorm(32, 32, eps=1e-05, affine=True)\n",
       "      (conv2): Conv3d(32, 64, kernel_size=(1, 1, 1), stride=(1, 1, 1))\n",
       "      (act): GELU(approximate='none')\n",
       "      (conv3): Conv3d(64, 32, kernel_size=(1, 1, 1), stride=(1, 1, 1))\n",
       "    )\n",
       "    (1): MedNeXtBlock(\n",
       "      (conv1): Conv3d(32, 32, kernel_size=(3, 3, 3), stride=(1, 1, 1), padding=(1, 1, 1), groups=32)\n",
       "      (norm): GroupNorm(32, 32, eps=1e-05, affine=True)\n",
       "      (conv2): Conv3d(32, 64, kernel_size=(1, 1, 1), stride=(1, 1, 1))\n",
       "      (act): GELU(approximate='none')\n",
       "      (conv3): Conv3d(64, 32, kernel_size=(1, 1, 1), stride=(1, 1, 1))\n",
       "    )\n",
       "  )\n",
       "  (out_0): OutBlock(\n",
       "    (conv_out): Conv3d(32, 8, kernel_size=(1, 1, 1), stride=(1, 1, 1))\n",
       "  )\n",
       ")"
      ]
     },
     "execution_count": 3,
     "metadata": {},
     "output_type": "execute_result"
    }
   ],
   "source": [
    "model_1 = create_mednext_v1(\n",
    "        num_input_channels = 2,\n",
    "        model_id = 'S',\n",
    "        num_classes = 8,\n",
    "    )\n",
    "checkpoint = \"/home/fanxx/fxx/Multi-modal-Segmentation/MMWHS_pre/Multi_modal/MedNeXt_S/runs/logs_base/model_noPad_2/model_lower_loss.pth.tar\"\n",
    "reload_ckpt_bis(checkpoint, model_1,device='cuda:0')\n",
    "model_1.cuda()\n"
   ]
  },
  {
   "cell_type": "code",
   "execution_count": 4,
   "metadata": {},
   "outputs": [],
   "source": [
    "def meandice(pred, label , num_class):\n",
    "    sumdice = 0\n",
    "    smooth = 1e-6\n",
    "\n",
    "    for i in range(1, num_class):\n",
    "        pred_bin = (pred==i)*1\n",
    "        label_bin = (label==i)*1\n",
    "\n",
    "        pred_bin = pred_bin.contiguous().view(pred_bin.shape[0], -1)\n",
    "        label_bin = label_bin.contiguous().view(label_bin.shape[0], -1)\n",
    "\n",
    "        intersection = (pred_bin * label_bin).sum()\n",
    "        dice = (2. * intersection + smooth) / (pred_bin.sum() + label_bin.sum() + smooth)\n",
    "        sumdice += dice\n",
    "\n",
    "    return sumdice/(num_class - 1) # 有背景类"
   ]
  },
  {
   "cell_type": "code",
   "execution_count": 7,
   "metadata": {},
   "outputs": [
    {
     "name": "stdout",
     "output_type": "stream",
     "text": [
      "dice: [0.8348702192306519, 0.8199483752250671] mean is : 82.74092972278595\n",
      "MIOU: [0.7252334952354431, 0.7044278979301453] mean is : 71.48306965827942\n",
      "hd95: [8.87491512298584, 11.322295188903809] mean is : 10.098605155944824\n"
     ]
    }
   ],
   "source": [
    "\n",
    "mean_dice =[]\n",
    "mean_hd95 = []\n",
    "mean_MIOU = []\n",
    "with torch.no_grad():\n",
    "    for i , batch in enumerate(val_loader):\n",
    "        patient_id = batch[\"patient_id\"]\n",
    "        val_inputs, val_labels = (\n",
    "                batch[\"image\"].cuda(),\n",
    "                batch[\"label\"].cuda(),\n",
    "            )\n",
    "        # print(patient_id)\n",
    "        # val_outputs = inference(val_inputs, model_1)\n",
    "        val_outputs = model_1(val_inputs)\n",
    "    \n",
    "        val_outputs_1 = [post_trans(i) for i in decollate_batch(val_outputs)]\n",
    "\n",
    "        val_outputs_2 = torch.nn.functional.one_hot(torch.argmax(torch.softmax(val_outputs ,dim =1) , dim = 1) ).permute(0,4,1,2,3)\n",
    "\n",
    "        nib.save(nib.Nifti1Image(val_inputs[0,0,:,:,:].float().detach().cpu().numpy(),np.eye(4)) , filename=f\"./output/{patient_id[0]}_ct.nii.gz\")\n",
    "        nib.save(nib.Nifti1Image(val_inputs[0,1,:,:,:].float().detach().cpu().numpy(),np.eye(4)) , filename=f\"./output/{patient_id[0]}_mr.nii.gz\")\n",
    "        labels = ['backgroud','CT-A', 'CT-B', 'CT-C', 'CT-D', 'CT-E', 'CT-F', 'CT-G']\n",
    "        dice_metric = meandice(torch.argmax(torch.softmax(val_outputs ,dim =1) , dim = 1) , torch.argmax(val_labels.int(),dim =1) , 8)\n",
    "        # print(dice_metric)\n",
    "        mean_dice.append(dice_metric.item())\n",
    "        mean_hd95.append(monai.metrics.HausdorffDistanceMetric(include_background = False,percentile=95)(val_outputs_2 , val_labels).mean().item())\n",
    "        mean_MIOU.append(monai.metrics.MeanIoU(include_background=False)(val_outputs_2 , val_labels).mean().item())\n",
    "\n",
    "        for i in range(7):\n",
    "            \n",
    "            nib.save(nib.Nifti1Image((val_outputs_1[0][i,:,:,:].detach().cpu()>0.5).int().numpy(),np.eye(4)) , filename=f\"./output/{patient_id[0]}_{labels[i]}.nii.gz\")\n",
    "        \n",
    "        for i in range(7):\n",
    "            nib.save(nib.Nifti1Image(val_labels[0,i,:,:,:].int().detach().cpu().numpy(),np.eye(4)) , filename=f\"./output/{patient_id[0]}_{labels[i]}_gt.nii.gz\")\n",
    "        \n",
    "        nib.save(nib.Nifti1Image(torch.argmax(torch.softmax(val_outputs ,dim =1) , dim = 1)[0,:,:,:].int().detach().cpu().numpy(),np.eye(4)) , filename=f\"./output/{patient_id[0]}_pred.nii.gz\")\n",
    "        nib.save(nib.Nifti1Image( torch.argmax(val_labels.int(),dim =1)[0,:,:,:].int().detach().cpu().numpy(),np.eye(4)) , filename=f\"./output/{patient_id[0]}_gt.nii.gz\")\n",
    "\n",
    "        # print(val_outputs.shape)\n",
    "        # break\n",
    "    \n",
    "print(f\"dice: {mean_dice} mean is : {np.mean(mean_dice) *100}\")\n",
    "print(f\"MIOU: {mean_MIOU} mean is : {np.mean(mean_MIOU) *100}\")\n",
    "print(f\"hd95: {mean_hd95} mean is : {np.mean(mean_hd95)}\")\n"
   ]
  },
  {
   "cell_type": "code",
   "execution_count": 7,
   "metadata": {},
   "outputs": [
    {
     "data": {
      "text/plain": [
       "torch.Size([1, 128, 128, 128])"
      ]
     },
     "execution_count": 7,
     "metadata": {},
     "output_type": "execute_result"
    }
   ],
   "source": [
    "torch.argmax(torch.softmax(val_outputs ,dim =1) , dim = 1).shape"
   ]
  },
  {
   "cell_type": "code",
   "execution_count": 33,
   "metadata": {},
   "outputs": [
    {
     "data": {
      "text/plain": [
       "torch.Size([7, 128, 128, 128])"
      ]
     },
     "execution_count": 33,
     "metadata": {},
     "output_type": "execute_result"
    }
   ],
   "source": [
    "val_outputs_1[0].shape"
   ]
  },
  {
   "cell_type": "code",
   "execution_count": 41,
   "metadata": {},
   "outputs": [
    {
     "name": "stdout",
     "output_type": "stream",
     "text": [
      "metatensor(0.9492, device='cuda:0')\n",
      "metatensor(0.8301, device='cuda:0')\n",
      "metatensor(0.9424, device='cuda:0')\n",
      "metatensor(0.8032, device='cuda:0')\n",
      "metatensor(0.9282, device='cuda:0')\n",
      "metatensor(0.9028, device='cuda:0')\n",
      "metatensor(0.9263, device='cuda:0')\n"
     ]
    }
   ],
   "source": [
    "for i in range(7):\n",
    "    print(val_outputs_1[0][i,:,:,:].max())"
   ]
  },
  {
   "cell_type": "code",
   "execution_count": 42,
   "metadata": {},
   "outputs": [],
   "source": [
    "temp_dict = {\n",
    "    \"image\" : [\"/home/fanxx/fxx/sdc/luoluo/MMWHS/MMWHS/ct_train/ct_train_1001_image.nii.gz\",\n",
    "                \"/home/fanxx/fxx/sdc/luoluo/MMWHS/MMWHS/mr_train/mr_train_1001_image.nii.gz\"],\n",
    "    \"label\" : [\"/home/fanxx/fxx/sdc/luoluo/MMWHS/MMWHS/ct_train/ct_train_1001_label.nii.gz\",\n",
    "                \"/home/fanxx/fxx/sdc/luoluo/MMWHS/MMWHS/mr_train/mr_train_1001_label.nii.gz\"]\n",
    "}"
   ]
  },
  {
   "cell_type": "code",
   "execution_count": 44,
   "metadata": {},
   "outputs": [],
   "source": [
    "from monai import transforms"
   ]
  },
  {
   "cell_type": "code",
   "execution_count": 50,
   "metadata": {},
   "outputs": [
    {
     "name": "stderr",
     "output_type": "stream",
     "text": [
      "/home/fanxx/anaconda3/envs/liulin/lib/python3.9/site-packages/monai/utils/deprecate_utils.py:321: FutureWarning: monai.transforms.io.dictionary LoadImaged.__init__:image_only: Current default value of argument `image_only=False` has been deprecated since version 1.1. It will be changed to `image_only=True` in version 1.3.\n",
      "  warn_deprecated(argname, msg, warning_category)\n"
     ]
    }
   ],
   "source": [
    "roi = (128,128,128)\n",
    "train_transform = transforms.Compose(\n",
    "        [\n",
    "            transforms.LoadImaged(keys=[\"image\", \"label\"]),\n",
    "            # transforms.ConvertToMultiChannelBasedOnBratsClassesd(keys=\"label\"),\n",
    "            # transforms.CropForegroundd(\n",
    "            #     keys=[\"image\", \"label\"],\n",
    "            #     source_key=\"image\",\n",
    "            #     k_divisible=[roi[0], roi[1], roi[2]],\n",
    "            # ),\n",
    "            # transforms.RandSpatialCropd(\n",
    "            #     keys=[\"image\", \"label\"],\n",
    "            #     roi_size=[roi[0], roi[1], roi[2]],\n",
    "            #     random_size=False,\n",
    "            # ),\n",
    "            # transforms.RandFlipd(keys=[\"image\", \"label\"], prob=0.5, spatial_axis=0),\n",
    "            # transforms.RandFlipd(keys=[\"image\", \"label\"], prob=0.5, spatial_axis=1),\n",
    "            # transforms.RandFlipd(keys=[\"image\", \"label\"], prob=0.5, spatial_axis=2),\n",
    "            # transforms.NormalizeIntensityd(keys=\"image\", nonzero=True, channel_wise=True),\n",
    "            # transforms.RandScaleIntensityd(keys=\"image\", factors=0.1, prob=1.0),\n",
    "            # transforms.RandShiftIntensityd(keys=\"image\", offsets=0.1, prob=1.0),\n",
    "        ]\n",
    "    )"
   ]
  },
  {
   "cell_type": "code",
   "execution_count": null,
   "metadata": {},
   "outputs": [],
   "source": []
  }
 ],
 "metadata": {
  "kernelspec": {
   "display_name": "Python 3",
   "language": "python",
   "name": "python3"
  },
  "language_info": {
   "codemirror_mode": {
    "name": "ipython",
    "version": 3
   },
   "file_extension": ".py",
   "mimetype": "text/x-python",
   "name": "python",
   "nbconvert_exporter": "python",
   "pygments_lexer": "ipython3",
   "version": "3.9.16"
  },
  "orig_nbformat": 4
 },
 "nbformat": 4,
 "nbformat_minor": 2
}
